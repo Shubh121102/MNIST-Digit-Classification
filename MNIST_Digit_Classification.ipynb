{
  "nbformat": 4,
  "nbformat_minor": 0,
  "metadata": {
    "colab": {
      "provenance": [],
      "authorship_tag": "ABX9TyPQntPhUlc6fg3t9GOeOt68",
      "include_colab_link": true
    },
    "kernelspec": {
      "name": "python3",
      "display_name": "Python 3"
    },
    "language_info": {
      "name": "python"
    }
  },
  "cells": [
    {
      "cell_type": "markdown",
      "metadata": {
        "id": "view-in-github",
        "colab_type": "text"
      },
      "source": [
        "<a href=\"https://colab.research.google.com/github/Shubh121102/MNIST-Digit-Classification/blob/main/MNIST_Digit_Classification.ipynb\" target=\"_parent\"><img src=\"https://colab.research.google.com/assets/colab-badge.svg\" alt=\"Open In Colab\"/></a>"
      ]
    },
    {
      "cell_type": "markdown",
      "source": [
        "# **MNIST DIGIT CLASSIFICATION**\n",
        "**MNIST dataset for handwritten digits from 0 -9 classification model using Deep Learning Neural Networks and Tensorflow library.\n",
        "The images are stored 28x28 pixels, trained using sequential model, dense and flatten layer. Sparse categorical crossentropy has been used as the loss function, adam is used as the optimizer and the accuracy is calculated using sparse categorical accuracy. The accuracy rate of the model on training data is 99% and test data is 97%.**"
      ],
      "metadata": {
        "id": "EAtuQogVQfnI"
      }
    },
    {
      "cell_type": "markdown",
      "source": [
        "# **Import Libraries**"
      ],
      "metadata": {
        "id": "UjS_jdkWQgZO"
      }
    },
    {
      "cell_type": "code",
      "execution_count": 1,
      "metadata": {
        "id": "8aAFgJYM5nCa"
      },
      "outputs": [],
      "source": [
        "import tensorflow as tf\n",
        "from tensorflow import keras\n",
        "from tensorflow.keras.layers import Dense,Flatten\n",
        "import numpy as np"
      ]
    },
    {
      "cell_type": "markdown",
      "source": [
        "# **Import Datasets**"
      ],
      "metadata": {
        "id": "r8UJWsy0RDSe"
      }
    },
    {
      "cell_type": "code",
      "source": [
        "mnist=keras.datasets.mnist"
      ],
      "metadata": {
        "id": "OxcgQGFG6zGF"
      },
      "execution_count": 2,
      "outputs": []
    },
    {
      "cell_type": "markdown",
      "source": [
        "# **Train-Test Split**"
      ],
      "metadata": {
        "id": "n8XDhGXbROOv"
      }
    },
    {
      "cell_type": "code",
      "source": [
        "(x_train,y_train),(x_test,y_test)=mnist.load_data()"
      ],
      "metadata": {
        "id": "MFZpDTG17E-9"
      },
      "execution_count": 3,
      "outputs": []
    },
    {
      "cell_type": "markdown",
      "source": [
        "# **Normalise**"
      ],
      "metadata": {
        "id": "yIdFQgoKRdPW"
      }
    },
    {
      "cell_type": "code",
      "source": [
        "x_train=x_train/255.0\n",
        "x_test=x_test/255.0"
      ],
      "metadata": {
        "id": "Fnx1RaA07ii3"
      },
      "execution_count": 4,
      "outputs": []
    },
    {
      "cell_type": "markdown",
      "source": [
        "# **Feed Forward Neural Network**"
      ],
      "metadata": {
        "id": "ZT4Bmz5KRsBZ"
      }
    },
    {
      "cell_type": "code",
      "source": [
        "model=tf.keras.models.Sequential([\n",
        "    Flatten(input_shape=(28,28)),\n",
        "    Dense(128,activation='relu'),\n",
        "    Dense(10),\n",
        "])"
      ],
      "metadata": {
        "colab": {
          "base_uri": "https://localhost:8080/"
        },
        "id": "6HO6qcF_7FVv",
        "outputId": "4e627b41-9291-43af-b9c3-ad280e7f8fd3"
      },
      "execution_count": 5,
      "outputs": [
        {
          "output_type": "stream",
          "name": "stderr",
          "text": [
            "/usr/local/lib/python3.10/dist-packages/keras/src/layers/reshaping/flatten.py:37: UserWarning: Do not pass an `input_shape`/`input_dim` argument to a layer. When using Sequential models, prefer using an `Input(shape)` object as the first layer in the model instead.\n",
            "  super().__init__(**kwargs)\n"
          ]
        }
      ]
    },
    {
      "cell_type": "markdown",
      "source": [
        "# **Config**"
      ],
      "metadata": {
        "id": "jK2PP6vaR6hB"
      }
    },
    {
      "cell_type": "code",
      "source": [
        "loss=tf.keras.losses.SparseCategoricalCrossentropy(from_logits=True)\n",
        "optim=tf.keras.optimizers.Adam(learning_rate=0.001)\n",
        "metrics=[tf.keras.metrics.SparseCategoricalAccuracy()]"
      ],
      "metadata": {
        "id": "4KToJSrk9Olm"
      },
      "execution_count": 6,
      "outputs": []
    },
    {
      "cell_type": "markdown",
      "source": [
        "# **Compile**"
      ],
      "metadata": {
        "id": "c1nExVMESCpQ"
      }
    },
    {
      "cell_type": "code",
      "source": [
        "model.compile(loss=loss,optimizer=optim,metrics=metrics)"
      ],
      "metadata": {
        "id": "fEmHQFLo-Lep"
      },
      "execution_count": 7,
      "outputs": []
    },
    {
      "cell_type": "markdown",
      "source": [
        "# **Fit/Training**"
      ],
      "metadata": {
        "id": "gpMx0EaySOUu"
      }
    },
    {
      "cell_type": "code",
      "source": [
        "model.fit(x_train,y_train,epochs=10,batch_size=64,shuffle=True, verbose=2)\n"
      ],
      "metadata": {
        "colab": {
          "base_uri": "https://localhost:8080/"
        },
        "id": "pZvFtU_E-g1I",
        "outputId": "6c42c51a-ec29-40de-d644-0954af6c2a0b"
      },
      "execution_count": 8,
      "outputs": [
        {
          "output_type": "stream",
          "name": "stdout",
          "text": [
            "Epoch 1/10\n",
            "938/938 - 5s - 5ms/step - loss: 0.3040 - sparse_categorical_accuracy: 0.9160\n",
            "Epoch 2/10\n",
            "938/938 - 5s - 5ms/step - loss: 0.1410 - sparse_categorical_accuracy: 0.9599\n",
            "Epoch 3/10\n",
            "938/938 - 3s - 4ms/step - loss: 0.0992 - sparse_categorical_accuracy: 0.9708\n",
            "Epoch 4/10\n",
            "938/938 - 3s - 3ms/step - loss: 0.0759 - sparse_categorical_accuracy: 0.9777\n",
            "Epoch 5/10\n",
            "938/938 - 7s - 7ms/step - loss: 0.0589 - sparse_categorical_accuracy: 0.9829\n",
            "Epoch 6/10\n",
            "938/938 - 3s - 3ms/step - loss: 0.0485 - sparse_categorical_accuracy: 0.9854\n",
            "Epoch 7/10\n",
            "938/938 - 3s - 3ms/step - loss: 0.0384 - sparse_categorical_accuracy: 0.9888\n",
            "Epoch 8/10\n",
            "938/938 - 6s - 6ms/step - loss: 0.0320 - sparse_categorical_accuracy: 0.9901\n",
            "Epoch 9/10\n",
            "938/938 - 5s - 5ms/step - loss: 0.0253 - sparse_categorical_accuracy: 0.9927\n",
            "Epoch 10/10\n",
            "938/938 - 5s - 6ms/step - loss: 0.0209 - sparse_categorical_accuracy: 0.9942\n"
          ]
        },
        {
          "output_type": "execute_result",
          "data": {
            "text/plain": [
              "<keras.src.callbacks.history.History at 0x780ecb100b80>"
            ]
          },
          "metadata": {},
          "execution_count": 8
        }
      ]
    },
    {
      "cell_type": "markdown",
      "source": [
        "# **Evaluate**"
      ],
      "metadata": {
        "id": "EzB2CYqGSWYF"
      }
    },
    {
      "cell_type": "code",
      "source": [
        "model.evaluate(x_test,y_test,verbose=2)"
      ],
      "metadata": {
        "colab": {
          "base_uri": "https://localhost:8080/"
        },
        "id": "5W0fqmZvAcgj",
        "outputId": "6f86bc2d-eb14-49a5-9c98-bc72d9aef753"
      },
      "execution_count": 9,
      "outputs": [
        {
          "output_type": "stream",
          "name": "stdout",
          "text": [
            "313/313 - 1s - 2ms/step - loss: 0.0828 - sparse_categorical_accuracy: 0.9757\n"
          ]
        },
        {
          "output_type": "execute_result",
          "data": {
            "text/plain": [
              "[0.08276931196451187, 0.9757000207901001]"
            ]
          },
          "metadata": {},
          "execution_count": 9
        }
      ]
    }
  ]
}