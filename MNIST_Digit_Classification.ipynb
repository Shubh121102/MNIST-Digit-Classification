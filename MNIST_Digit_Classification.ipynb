{
  "nbformat": 4,
  "nbformat_minor": 0,
  "metadata": {
    "colab": {
      "provenance": [],
      "authorship_tag": "ABX9TyOxg7v+6OLBsiyuMQD19dpi",
      "include_colab_link": true
    },
    "kernelspec": {
      "name": "python3",
      "display_name": "Python 3"
    },
    "language_info": {
      "name": "python"
    }
  },
  "cells": [
    {
      "cell_type": "markdown",
      "metadata": {
        "id": "view-in-github",
        "colab_type": "text"
      },
      "source": [
        "<a href=\"https://colab.research.google.com/github/Shubh121102/MNIST-Digit-Classification/blob/main/MNIST_Digit_Classification.ipynb\" target=\"_parent\"><img src=\"https://colab.research.google.com/assets/colab-badge.svg\" alt=\"Open In Colab\"/></a>"
      ]
    },
    {
      "cell_type": "code",
      "execution_count": 4,
      "metadata": {
        "id": "8aAFgJYM5nCa"
      },
      "outputs": [],
      "source": [
        "import tensorflow as tf\n",
        "from tensorflow import keras\n",
        "from tensorflow.keras.layers import Dense,Flatten\n",
        "import numpy as np"
      ]
    },
    {
      "cell_type": "code",
      "source": [
        "mnist=keras.datasets.mnist"
      ],
      "metadata": {
        "id": "OxcgQGFG6zGF"
      },
      "execution_count": 7,
      "outputs": []
    },
    {
      "cell_type": "code",
      "source": [
        "(x_train,y_train),(x_test,y_test)=mnist.load_data()"
      ],
      "metadata": {
        "colab": {
          "base_uri": "https://localhost:8080/"
        },
        "id": "MFZpDTG17E-9",
        "outputId": "fd2a1bf1-611a-4624-cf05-879ce6e68e05"
      },
      "execution_count": 8,
      "outputs": [
        {
          "output_type": "stream",
          "name": "stdout",
          "text": [
            "Downloading data from https://storage.googleapis.com/tensorflow/tf-keras-datasets/mnist.npz\n",
            "\u001b[1m11490434/11490434\u001b[0m \u001b[32m━━━━━━━━━━━━━━━━━━━━\u001b[0m\u001b[37m\u001b[0m \u001b[1m0s\u001b[0m 0us/step\n"
          ]
        }
      ]
    },
    {
      "cell_type": "code",
      "source": [
        "#Normalise\n",
        "x_train=x_train/255.0\n",
        "x_test=x_test/255.0"
      ],
      "metadata": {
        "id": "Fnx1RaA07ii3"
      },
      "execution_count": 10,
      "outputs": []
    },
    {
      "cell_type": "code",
      "source": [
        "#Feed Forward Neural Network\n",
        "model=tf.keras.models.Sequential([\n",
        "    Flatten(input_shape=(28,28)),\n",
        "    Dense(128,activation='relu'),\n",
        "    Dense(10),\n",
        "])"
      ],
      "metadata": {
        "colab": {
          "base_uri": "https://localhost:8080/"
        },
        "id": "6HO6qcF_7FVv",
        "outputId": "1b87d03d-4ce0-417e-e8c8-b109ce0ec02a"
      },
      "execution_count": 14,
      "outputs": [
        {
          "output_type": "stream",
          "name": "stderr",
          "text": [
            "/usr/local/lib/python3.10/dist-packages/keras/src/layers/reshaping/flatten.py:37: UserWarning: Do not pass an `input_shape`/`input_dim` argument to a layer. When using Sequential models, prefer using an `Input(shape)` object as the first layer in the model instead.\n",
            "  super().__init__(**kwargs)\n"
          ]
        }
      ]
    },
    {
      "cell_type": "code",
      "source": [
        "#config\n",
        "loss=tf.keras.losses.SparseCategoricalCrossentropy(from_logits=True)\n",
        "optim=tf.keras.optimizers.Adam(learning_rate=0.001)\n",
        "metrics=[tf.keras.metrics.SparseCategoricalAccuracy()]"
      ],
      "metadata": {
        "id": "4KToJSrk9Olm"
      },
      "execution_count": 17,
      "outputs": []
    },
    {
      "cell_type": "code",
      "source": [
        "model.compile(loss=loss,optimizer=optim,metrics=metrics)"
      ],
      "metadata": {
        "id": "fEmHQFLo-Lep"
      },
      "execution_count": 18,
      "outputs": []
    },
    {
      "cell_type": "code",
      "source": [
        "#fit/training\n",
        "model.fit(x_train,y_train,epochs=10,batch_size=64,shuffle=True, verbose=2)\n"
      ],
      "metadata": {
        "colab": {
          "base_uri": "https://localhost:8080/"
        },
        "id": "pZvFtU_E-g1I",
        "outputId": "5385b455-f4d2-4aff-fd8b-2ca4996867b3"
      },
      "execution_count": 20,
      "outputs": [
        {
          "output_type": "stream",
          "name": "stdout",
          "text": [
            "Epoch 1/10\n"
          ]
        },
        {
          "output_type": "stream",
          "name": "stderr",
          "text": [
            "/usr/local/lib/python3.10/dist-packages/keras/src/backend/tensorflow/nn.py:609: UserWarning: \"`sparse_categorical_crossentropy` received `from_logits=True`, but the `output` argument was produced by a Softmax activation and thus does not represent logits. Was this intended?\n",
            "  output, from_logits = _get_logits(\n"
          ]
        },
        {
          "output_type": "stream",
          "name": "stdout",
          "text": [
            "938/938 - 4s - 5ms/step - loss: 0.2917 - sparse_categorical_accuracy: 0.9179\n",
            "Epoch 2/10\n",
            "938/938 - 4s - 5ms/step - loss: 0.1314 - sparse_categorical_accuracy: 0.9614\n",
            "Epoch 3/10\n",
            "938/938 - 6s - 6ms/step - loss: 0.0920 - sparse_categorical_accuracy: 0.9728\n",
            "Epoch 4/10\n",
            "938/938 - 6s - 6ms/step - loss: 0.0701 - sparse_categorical_accuracy: 0.9796\n",
            "Epoch 5/10\n",
            "938/938 - 3s - 3ms/step - loss: 0.0554 - sparse_categorical_accuracy: 0.9830\n",
            "Epoch 6/10\n",
            "938/938 - 5s - 5ms/step - loss: 0.0448 - sparse_categorical_accuracy: 0.9871\n",
            "Epoch 7/10\n",
            "938/938 - 6s - 7ms/step - loss: 0.0355 - sparse_categorical_accuracy: 0.9896\n",
            "Epoch 8/10\n",
            "938/938 - 4s - 4ms/step - loss: 0.0283 - sparse_categorical_accuracy: 0.9921\n",
            "Epoch 9/10\n",
            "938/938 - 3s - 3ms/step - loss: 0.0243 - sparse_categorical_accuracy: 0.9930\n",
            "Epoch 10/10\n",
            "938/938 - 3s - 4ms/step - loss: 0.0203 - sparse_categorical_accuracy: 0.9944\n"
          ]
        },
        {
          "output_type": "execute_result",
          "data": {
            "text/plain": [
              "<keras.src.callbacks.history.History at 0x7caa3d103820>"
            ]
          },
          "metadata": {},
          "execution_count": 20
        }
      ]
    },
    {
      "cell_type": "code",
      "source": [
        "model.evaluate(x_test,y_test,verbose=2)"
      ],
      "metadata": {
        "colab": {
          "base_uri": "https://localhost:8080/"
        },
        "id": "5W0fqmZvAcgj",
        "outputId": "7a4c0d34-40e0-420b-b460-96ddae7d105b"
      },
      "execution_count": 21,
      "outputs": [
        {
          "output_type": "stream",
          "name": "stderr",
          "text": [
            "/usr/local/lib/python3.10/dist-packages/keras/src/backend/tensorflow/nn.py:609: UserWarning: \"`sparse_categorical_crossentropy` received `from_logits=True`, but the `output` argument was produced by a Softmax activation and thus does not represent logits. Was this intended?\n",
            "  output, from_logits = _get_logits(\n"
          ]
        },
        {
          "output_type": "stream",
          "name": "stdout",
          "text": [
            "313/313 - 1s - 2ms/step - loss: 0.0776 - sparse_categorical_accuracy: 0.9777\n"
          ]
        },
        {
          "output_type": "execute_result",
          "data": {
            "text/plain": [
              "[0.0775907039642334, 0.9776999950408936]"
            ]
          },
          "metadata": {},
          "execution_count": 21
        }
      ]
    }
  ]
}